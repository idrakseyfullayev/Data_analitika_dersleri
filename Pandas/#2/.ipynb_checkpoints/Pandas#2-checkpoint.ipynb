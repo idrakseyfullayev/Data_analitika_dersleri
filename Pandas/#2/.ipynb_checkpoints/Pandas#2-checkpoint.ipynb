{
 "cells": [
  {
   "cell_type": "code",
   "execution_count": 4,
   "id": "d7305d53",
   "metadata": {},
   "outputs": [],
   "source": [
    "şagirdlər = {\n",
    "    'Ad': ['Kamil', 'Şəhla', 'Arzu'],\n",
    "    'Soyad': ['Orucov', 'Qasımova', 'Teymurova'],\n",
    "    'Qiymət': [87, 93, 75]\n",
    "}"
   ]
  },
  {
   "cell_type": "code",
   "execution_count": 5,
   "id": "7acb4214",
   "metadata": {},
   "outputs": [
    {
     "data": {
      "text/html": [
       "<div>\n",
       "<style scoped>\n",
       "    .dataframe tbody tr th:only-of-type {\n",
       "        vertical-align: middle;\n",
       "    }\n",
       "\n",
       "    .dataframe tbody tr th {\n",
       "        vertical-align: top;\n",
       "    }\n",
       "\n",
       "    .dataframe thead th {\n",
       "        text-align: right;\n",
       "    }\n",
       "</style>\n",
       "<table border=\"1\" class=\"dataframe\">\n",
       "  <thead>\n",
       "    <tr style=\"text-align: right;\">\n",
       "      <th></th>\n",
       "      <th>Ad</th>\n",
       "      <th>Soyad</th>\n",
       "      <th>Qiymət</th>\n",
       "    </tr>\n",
       "  </thead>\n",
       "  <tbody>\n",
       "    <tr>\n",
       "      <th>0</th>\n",
       "      <td>Kamil</td>\n",
       "      <td>Orucov</td>\n",
       "      <td>87</td>\n",
       "    </tr>\n",
       "    <tr>\n",
       "      <th>1</th>\n",
       "      <td>Şəhla</td>\n",
       "      <td>Qasımova</td>\n",
       "      <td>93</td>\n",
       "    </tr>\n",
       "    <tr>\n",
       "      <th>2</th>\n",
       "      <td>Arzu</td>\n",
       "      <td>Teymurova</td>\n",
       "      <td>75</td>\n",
       "    </tr>\n",
       "  </tbody>\n",
       "</table>\n",
       "</div>"
      ],
      "text/plain": [
       "      Ad      Soyad  Qiymət\n",
       "0  Kamil     Orucov      87\n",
       "1  Şəhla   Qasımova      93\n",
       "2   Arzu  Teymurova      75"
      ]
     },
     "execution_count": 5,
     "metadata": {},
     "output_type": "execute_result"
    }
   ],
   "source": [
    "import pandas as pd\n",
    "\n",
    "df = pd.DataFrame(şagirdlər)\n",
    "df"
   ]
  },
  {
   "cell_type": "code",
   "execution_count": 6,
   "id": "80800e15",
   "metadata": {},
   "outputs": [
    {
     "data": {
      "text/plain": [
       "0       Orucov\n",
       "1     Qasımova\n",
       "2    Teymurova\n",
       "Name: Soyad, dtype: object"
      ]
     },
     "execution_count": 6,
     "metadata": {},
     "output_type": "execute_result"
    }
   ],
   "source": [
    "df['Soyad']"
   ]
  },
  {
   "cell_type": "code",
   "execution_count": 7,
   "id": "691ae351",
   "metadata": {},
   "outputs": [
    {
     "data": {
      "text/plain": [
       "pandas.core.series.Series"
      ]
     },
     "execution_count": 7,
     "metadata": {},
     "output_type": "execute_result"
    }
   ],
   "source": [
    "type(df['Soyad'])"
   ]
  },
  {
   "cell_type": "code",
   "execution_count": 8,
   "id": "94d59b97",
   "metadata": {},
   "outputs": [
    {
     "data": {
      "text/plain": [
       "Index(['Ad', 'Soyad', 'Qiymət'], dtype='object')"
      ]
     },
     "execution_count": 8,
     "metadata": {},
     "output_type": "execute_result"
    }
   ],
   "source": [
    "df.columns"
   ]
  },
  {
   "cell_type": "code",
   "execution_count": 9,
   "id": "0dd7304a",
   "metadata": {},
   "outputs": [
    {
     "data": {
      "text/plain": [
       "'Ad'"
      ]
     },
     "execution_count": 9,
     "metadata": {},
     "output_type": "execute_result"
    }
   ],
   "source": [
    "df.columns[0]"
   ]
  },
  {
   "cell_type": "code",
   "execution_count": 10,
   "id": "4c319aef",
   "metadata": {},
   "outputs": [
    {
     "data": {
      "text/html": [
       "<div>\n",
       "<style scoped>\n",
       "    .dataframe tbody tr th:only-of-type {\n",
       "        vertical-align: middle;\n",
       "    }\n",
       "\n",
       "    .dataframe tbody tr th {\n",
       "        vertical-align: top;\n",
       "    }\n",
       "\n",
       "    .dataframe thead th {\n",
       "        text-align: right;\n",
       "    }\n",
       "</style>\n",
       "<table border=\"1\" class=\"dataframe\">\n",
       "  <thead>\n",
       "    <tr style=\"text-align: right;\">\n",
       "      <th></th>\n",
       "      <th>Ad</th>\n",
       "      <th>Soyad</th>\n",
       "    </tr>\n",
       "  </thead>\n",
       "  <tbody>\n",
       "    <tr>\n",
       "      <th>0</th>\n",
       "      <td>Kamil</td>\n",
       "      <td>Orucov</td>\n",
       "    </tr>\n",
       "    <tr>\n",
       "      <th>1</th>\n",
       "      <td>Şəhla</td>\n",
       "      <td>Qasımova</td>\n",
       "    </tr>\n",
       "    <tr>\n",
       "      <th>2</th>\n",
       "      <td>Arzu</td>\n",
       "      <td>Teymurova</td>\n",
       "    </tr>\n",
       "  </tbody>\n",
       "</table>\n",
       "</div>"
      ],
      "text/plain": [
       "      Ad      Soyad\n",
       "0  Kamil     Orucov\n",
       "1  Şəhla   Qasımova\n",
       "2   Arzu  Teymurova"
      ]
     },
     "execution_count": 10,
     "metadata": {},
     "output_type": "execute_result"
    }
   ],
   "source": [
    "df[['Ad', 'Soyad']]"
   ]
  },
  {
   "cell_type": "code",
   "execution_count": 11,
   "id": "736aee10",
   "metadata": {},
   "outputs": [
    {
     "data": {
      "text/plain": [
       "Ad           Şəhla\n",
       "Soyad     Qasımova\n",
       "Qiymət          93\n",
       "Name: 1, dtype: object"
      ]
     },
     "execution_count": 11,
     "metadata": {},
     "output_type": "execute_result"
    }
   ],
   "source": [
    "df.iloc[1]"
   ]
  },
  {
   "cell_type": "code",
   "execution_count": 12,
   "id": "fa7ccbbb",
   "metadata": {},
   "outputs": [
    {
     "data": {
      "text/html": [
       "<div>\n",
       "<style scoped>\n",
       "    .dataframe tbody tr th:only-of-type {\n",
       "        vertical-align: middle;\n",
       "    }\n",
       "\n",
       "    .dataframe tbody tr th {\n",
       "        vertical-align: top;\n",
       "    }\n",
       "\n",
       "    .dataframe thead th {\n",
       "        text-align: right;\n",
       "    }\n",
       "</style>\n",
       "<table border=\"1\" class=\"dataframe\">\n",
       "  <thead>\n",
       "    <tr style=\"text-align: right;\">\n",
       "      <th></th>\n",
       "      <th>Ad</th>\n",
       "      <th>Soyad</th>\n",
       "      <th>Qiymət</th>\n",
       "    </tr>\n",
       "  </thead>\n",
       "  <tbody>\n",
       "    <tr>\n",
       "      <th>0</th>\n",
       "      <td>Kamil</td>\n",
       "      <td>Orucov</td>\n",
       "      <td>87</td>\n",
       "    </tr>\n",
       "    <tr>\n",
       "      <th>2</th>\n",
       "      <td>Arzu</td>\n",
       "      <td>Teymurova</td>\n",
       "      <td>75</td>\n",
       "    </tr>\n",
       "  </tbody>\n",
       "</table>\n",
       "</div>"
      ],
      "text/plain": [
       "      Ad      Soyad  Qiymət\n",
       "0  Kamil     Orucov      87\n",
       "2   Arzu  Teymurova      75"
      ]
     },
     "execution_count": 12,
     "metadata": {},
     "output_type": "execute_result"
    }
   ],
   "source": [
    "df.iloc[[0, 2]]"
   ]
  },
  {
   "cell_type": "code",
   "execution_count": 13,
   "id": "bf2ae4be",
   "metadata": {},
   "outputs": [
    {
     "data": {
      "text/plain": [
       "0       Orucov\n",
       "2    Teymurova\n",
       "Name: Soyad, dtype: object"
      ]
     },
     "execution_count": 13,
     "metadata": {},
     "output_type": "execute_result"
    }
   ],
   "source": [
    "df.iloc[[0, 2], 1]"
   ]
  },
  {
   "cell_type": "code",
   "execution_count": 14,
   "id": "74e7e513",
   "metadata": {},
   "outputs": [
    {
     "data": {
      "text/html": [
       "<div>\n",
       "<style scoped>\n",
       "    .dataframe tbody tr th:only-of-type {\n",
       "        vertical-align: middle;\n",
       "    }\n",
       "\n",
       "    .dataframe tbody tr th {\n",
       "        vertical-align: top;\n",
       "    }\n",
       "\n",
       "    .dataframe thead th {\n",
       "        text-align: right;\n",
       "    }\n",
       "</style>\n",
       "<table border=\"1\" class=\"dataframe\">\n",
       "  <thead>\n",
       "    <tr style=\"text-align: right;\">\n",
       "      <th></th>\n",
       "      <th>Ad</th>\n",
       "      <th>Qiymət</th>\n",
       "    </tr>\n",
       "  </thead>\n",
       "  <tbody>\n",
       "    <tr>\n",
       "      <th>0</th>\n",
       "      <td>Kamil</td>\n",
       "      <td>87</td>\n",
       "    </tr>\n",
       "    <tr>\n",
       "      <th>2</th>\n",
       "      <td>Arzu</td>\n",
       "      <td>75</td>\n",
       "    </tr>\n",
       "  </tbody>\n",
       "</table>\n",
       "</div>"
      ],
      "text/plain": [
       "      Ad  Qiymət\n",
       "0  Kamil      87\n",
       "2   Arzu      75"
      ]
     },
     "execution_count": 14,
     "metadata": {},
     "output_type": "execute_result"
    }
   ],
   "source": [
    "df.iloc[[0, 2], [0, 2]]"
   ]
  },
  {
   "cell_type": "code",
   "execution_count": 15,
   "id": "845449d1",
   "metadata": {},
   "outputs": [
    {
     "data": {
      "text/html": [
       "<div>\n",
       "<style scoped>\n",
       "    .dataframe tbody tr th:only-of-type {\n",
       "        vertical-align: middle;\n",
       "    }\n",
       "\n",
       "    .dataframe tbody tr th {\n",
       "        vertical-align: top;\n",
       "    }\n",
       "\n",
       "    .dataframe thead th {\n",
       "        text-align: right;\n",
       "    }\n",
       "</style>\n",
       "<table border=\"1\" class=\"dataframe\">\n",
       "  <thead>\n",
       "    <tr style=\"text-align: right;\">\n",
       "      <th></th>\n",
       "      <th>Price</th>\n",
       "      <th>Year</th>\n",
       "      <th>Engine</th>\n",
       "      <th>Distance</th>\n",
       "    </tr>\n",
       "  </thead>\n",
       "  <tbody>\n",
       "    <tr>\n",
       "      <th>0</th>\n",
       "      <td>12 700 AZN</td>\n",
       "      <td>2008</td>\n",
       "      <td>1.5 L</td>\n",
       "      <td>384 633 km</td>\n",
       "    </tr>\n",
       "    <tr>\n",
       "      <th>1</th>\n",
       "      <td>19 000 AZN</td>\n",
       "      <td>2010</td>\n",
       "      <td>1.8 L</td>\n",
       "      <td>316 656 km</td>\n",
       "    </tr>\n",
       "    <tr>\n",
       "      <th>2</th>\n",
       "      <td>13 900 AZN</td>\n",
       "      <td>2008</td>\n",
       "      <td>1.5 L</td>\n",
       "      <td>175 000 km</td>\n",
       "    </tr>\n",
       "    <tr>\n",
       "      <th>3</th>\n",
       "      <td>12 800 AZN</td>\n",
       "      <td>2007</td>\n",
       "      <td>1.5 L</td>\n",
       "      <td>210 000 km</td>\n",
       "    </tr>\n",
       "    <tr>\n",
       "      <th>4</th>\n",
       "      <td>14 500 AZN</td>\n",
       "      <td>2006</td>\n",
       "      <td>1.5 L</td>\n",
       "      <td>137 000 km</td>\n",
       "    </tr>\n",
       "    <tr>\n",
       "      <th>...</th>\n",
       "      <td>...</td>\n",
       "      <td>...</td>\n",
       "      <td>...</td>\n",
       "      <td>...</td>\n",
       "    </tr>\n",
       "    <tr>\n",
       "      <th>987</th>\n",
       "      <td>19 000 AZN</td>\n",
       "      <td>2012</td>\n",
       "      <td>1.8 L</td>\n",
       "      <td>167 000 km</td>\n",
       "    </tr>\n",
       "    <tr>\n",
       "      <th>988</th>\n",
       "      <td>10 000 AZN</td>\n",
       "      <td>2007</td>\n",
       "      <td>1.5 L</td>\n",
       "      <td>187 000 km</td>\n",
       "    </tr>\n",
       "    <tr>\n",
       "      <th>989</th>\n",
       "      <td>20 000 AZN</td>\n",
       "      <td>2007</td>\n",
       "      <td>1.5 L</td>\n",
       "      <td>150 000 km</td>\n",
       "    </tr>\n",
       "    <tr>\n",
       "      <th>990</th>\n",
       "      <td>13 900 AZN</td>\n",
       "      <td>2008</td>\n",
       "      <td>1.5 L</td>\n",
       "      <td>175 000 km</td>\n",
       "    </tr>\n",
       "    <tr>\n",
       "      <th>991</th>\n",
       "      <td>12 200 AZN</td>\n",
       "      <td>2008</td>\n",
       "      <td>1.5 L</td>\n",
       "      <td>150 000 km</td>\n",
       "    </tr>\n",
       "  </tbody>\n",
       "</table>\n",
       "<p>992 rows × 4 columns</p>\n",
       "</div>"
      ],
      "text/plain": [
       "          Price  Year Engine    Distance\n",
       "0    12 700 AZN  2008  1.5 L  384 633 km\n",
       "1    19 000 AZN  2010  1.8 L  316 656 km\n",
       "2    13 900 AZN  2008  1.5 L  175 000 km\n",
       "3    12 800 AZN  2007  1.5 L  210 000 km\n",
       "4    14 500 AZN  2006  1.5 L  137 000 km\n",
       "..          ...   ...    ...         ...\n",
       "987  19 000 AZN  2012  1.8 L  167 000 km\n",
       "988  10 000 AZN  2007  1.5 L  187 000 km\n",
       "989  20 000 AZN  2007  1.5 L  150 000 km\n",
       "990  13 900 AZN  2008  1.5 L  175 000 km\n",
       "991  12 200 AZN  2008  1.5 L  150 000 km\n",
       "\n",
       "[992 rows x 4 columns]"
      ]
     },
     "execution_count": 15,
     "metadata": {},
     "output_type": "execute_result"
    }
   ],
   "source": [
    "turbo_df = pd.read_csv('turbo.csv')\n",
    "turbo_df"
   ]
  },
  {
   "cell_type": "code",
   "execution_count": 17,
   "id": "ba631041",
   "metadata": {},
   "outputs": [
    {
     "data": {
      "text/html": [
       "<div>\n",
       "<style scoped>\n",
       "    .dataframe tbody tr th:only-of-type {\n",
       "        vertical-align: middle;\n",
       "    }\n",
       "\n",
       "    .dataframe tbody tr th {\n",
       "        vertical-align: top;\n",
       "    }\n",
       "\n",
       "    .dataframe thead th {\n",
       "        text-align: right;\n",
       "    }\n",
       "</style>\n",
       "<table border=\"1\" class=\"dataframe\">\n",
       "  <thead>\n",
       "    <tr style=\"text-align: right;\">\n",
       "      <th></th>\n",
       "      <th>Price</th>\n",
       "      <th>Year</th>\n",
       "    </tr>\n",
       "  </thead>\n",
       "  <tbody>\n",
       "    <tr>\n",
       "      <th>250</th>\n",
       "      <td>17 600 AZN</td>\n",
       "      <td>2011</td>\n",
       "    </tr>\n",
       "    <tr>\n",
       "      <th>251</th>\n",
       "      <td>13 750 AZN</td>\n",
       "      <td>2007</td>\n",
       "    </tr>\n",
       "    <tr>\n",
       "      <th>252</th>\n",
       "      <td>22 300 AZN</td>\n",
       "      <td>2013</td>\n",
       "    </tr>\n",
       "    <tr>\n",
       "      <th>253</th>\n",
       "      <td>19 400 AZN</td>\n",
       "      <td>2014</td>\n",
       "    </tr>\n",
       "    <tr>\n",
       "      <th>254</th>\n",
       "      <td>10 000 AZN</td>\n",
       "      <td>2008</td>\n",
       "    </tr>\n",
       "    <tr>\n",
       "      <th>...</th>\n",
       "      <td>...</td>\n",
       "      <td>...</td>\n",
       "    </tr>\n",
       "    <tr>\n",
       "      <th>365</th>\n",
       "      <td>17 400 AZN</td>\n",
       "      <td>2012</td>\n",
       "    </tr>\n",
       "    <tr>\n",
       "      <th>366</th>\n",
       "      <td>16 900 AZN</td>\n",
       "      <td>2009</td>\n",
       "    </tr>\n",
       "    <tr>\n",
       "      <th>367</th>\n",
       "      <td>12 900 AZN</td>\n",
       "      <td>2006</td>\n",
       "    </tr>\n",
       "    <tr>\n",
       "      <th>368</th>\n",
       "      <td>17 500 AZN</td>\n",
       "      <td>2012</td>\n",
       "    </tr>\n",
       "    <tr>\n",
       "      <th>369</th>\n",
       "      <td>13 200 AZN</td>\n",
       "      <td>2008</td>\n",
       "    </tr>\n",
       "  </tbody>\n",
       "</table>\n",
       "<p>120 rows × 2 columns</p>\n",
       "</div>"
      ],
      "text/plain": [
       "          Price  Year\n",
       "250  17 600 AZN  2011\n",
       "251  13 750 AZN  2007\n",
       "252  22 300 AZN  2013\n",
       "253  19 400 AZN  2014\n",
       "254  10 000 AZN  2008\n",
       "..          ...   ...\n",
       "365  17 400 AZN  2012\n",
       "366  16 900 AZN  2009\n",
       "367  12 900 AZN  2006\n",
       "368  17 500 AZN  2012\n",
       "369  13 200 AZN  2008\n",
       "\n",
       "[120 rows x 2 columns]"
      ]
     },
     "execution_count": 17,
     "metadata": {},
     "output_type": "execute_result"
    }
   ],
   "source": [
    "turbo_df.iloc[250:370, 0:2]"
   ]
  },
  {
   "cell_type": "code",
   "execution_count": 18,
   "id": "8ccb1bbb",
   "metadata": {},
   "outputs": [
    {
     "data": {
      "text/plain": [
       "Price       13 500 AZN\n",
       "Year              2006\n",
       "Engine           1.5 L\n",
       "Distance    132 930 km\n",
       "Name: 125, dtype: object"
      ]
     },
     "execution_count": 18,
     "metadata": {},
     "output_type": "execute_result"
    }
   ],
   "source": [
    "turbo_df.loc[125]"
   ]
  },
  {
   "cell_type": "code",
   "execution_count": 20,
   "id": "7bd30b8c",
   "metadata": {},
   "outputs": [
    {
     "data": {
      "text/html": [
       "<div>\n",
       "<style scoped>\n",
       "    .dataframe tbody tr th:only-of-type {\n",
       "        vertical-align: middle;\n",
       "    }\n",
       "\n",
       "    .dataframe tbody tr th {\n",
       "        vertical-align: top;\n",
       "    }\n",
       "\n",
       "    .dataframe thead th {\n",
       "        text-align: right;\n",
       "    }\n",
       "</style>\n",
       "<table border=\"1\" class=\"dataframe\">\n",
       "  <thead>\n",
       "    <tr style=\"text-align: right;\">\n",
       "      <th></th>\n",
       "      <th>Price</th>\n",
       "      <th>Year</th>\n",
       "      <th>Engine</th>\n",
       "    </tr>\n",
       "  </thead>\n",
       "  <tbody>\n",
       "    <tr>\n",
       "      <th>110</th>\n",
       "      <td>12 900 AZN</td>\n",
       "      <td>2007</td>\n",
       "      <td>1.5 L</td>\n",
       "    </tr>\n",
       "    <tr>\n",
       "      <th>111</th>\n",
       "      <td>12 950 AZN</td>\n",
       "      <td>2005</td>\n",
       "      <td>1.5 L</td>\n",
       "    </tr>\n",
       "    <tr>\n",
       "      <th>112</th>\n",
       "      <td>12 950 AZN</td>\n",
       "      <td>2008</td>\n",
       "      <td>1.5 L</td>\n",
       "    </tr>\n",
       "    <tr>\n",
       "      <th>113</th>\n",
       "      <td>15 900 AZN</td>\n",
       "      <td>2010</td>\n",
       "      <td>1.8 L</td>\n",
       "    </tr>\n",
       "    <tr>\n",
       "      <th>114</th>\n",
       "      <td>17 300 AZN</td>\n",
       "      <td>2010</td>\n",
       "      <td>1.8 L</td>\n",
       "    </tr>\n",
       "    <tr>\n",
       "      <th>...</th>\n",
       "      <td>...</td>\n",
       "      <td>...</td>\n",
       "      <td>...</td>\n",
       "    </tr>\n",
       "    <tr>\n",
       "      <th>241</th>\n",
       "      <td>13 700 AZN</td>\n",
       "      <td>2007</td>\n",
       "      <td>1.5 L</td>\n",
       "    </tr>\n",
       "    <tr>\n",
       "      <th>242</th>\n",
       "      <td>11 900 AZN</td>\n",
       "      <td>2008</td>\n",
       "      <td>1.5 L</td>\n",
       "    </tr>\n",
       "    <tr>\n",
       "      <th>243</th>\n",
       "      <td>20 900 AZN</td>\n",
       "      <td>2012</td>\n",
       "      <td>1.8 L</td>\n",
       "    </tr>\n",
       "    <tr>\n",
       "      <th>244</th>\n",
       "      <td>13 500 AZN</td>\n",
       "      <td>2007</td>\n",
       "      <td>1.5 L</td>\n",
       "    </tr>\n",
       "    <tr>\n",
       "      <th>245</th>\n",
       "      <td>12 900 AZN</td>\n",
       "      <td>2007</td>\n",
       "      <td>1.5 L</td>\n",
       "    </tr>\n",
       "  </tbody>\n",
       "</table>\n",
       "<p>136 rows × 3 columns</p>\n",
       "</div>"
      ],
      "text/plain": [
       "          Price  Year Engine\n",
       "110  12 900 AZN  2007  1.5 L\n",
       "111  12 950 AZN  2005  1.5 L\n",
       "112  12 950 AZN  2008  1.5 L\n",
       "113  15 900 AZN  2010  1.8 L\n",
       "114  17 300 AZN  2010  1.8 L\n",
       "..          ...   ...    ...\n",
       "241  13 700 AZN  2007  1.5 L\n",
       "242  11 900 AZN  2008  1.5 L\n",
       "243  20 900 AZN  2012  1.8 L\n",
       "244  13 500 AZN  2007  1.5 L\n",
       "245  12 900 AZN  2007  1.5 L\n",
       "\n",
       "[136 rows x 3 columns]"
      ]
     },
     "execution_count": 20,
     "metadata": {},
     "output_type": "execute_result"
    }
   ],
   "source": [
    "turbo_df.loc[110:245, 'Price':'Engine']"
   ]
  },
  {
   "cell_type": "code",
   "execution_count": null,
   "id": "e3df38ed",
   "metadata": {},
   "outputs": [],
   "source": []
  }
 ],
 "metadata": {
  "kernelspec": {
   "display_name": "Python 3 (ipykernel)",
   "language": "python",
   "name": "python3"
  },
  "language_info": {
   "codemirror_mode": {
    "name": "ipython",
    "version": 3
   },
   "file_extension": ".py",
   "mimetype": "text/x-python",
   "name": "python",
   "nbconvert_exporter": "python",
   "pygments_lexer": "ipython3",
   "version": "3.9.7"
  }
 },
 "nbformat": 4,
 "nbformat_minor": 5
}
