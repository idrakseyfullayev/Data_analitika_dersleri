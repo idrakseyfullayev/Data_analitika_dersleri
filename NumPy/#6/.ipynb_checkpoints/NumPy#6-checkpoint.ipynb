{
 "cells": [
  {
   "cell_type": "code",
   "execution_count": 1,
   "id": "2d72d97c",
   "metadata": {},
   "outputs": [],
   "source": [
    "import numpy as np"
   ]
  },
  {
   "cell_type": "code",
   "execution_count": 4,
   "id": "1f5a9b55",
   "metadata": {},
   "outputs": [
    {
     "data": {
      "text/plain": [
       "array([[ 5, 56, 28, 44, 55],\n",
       "       [64, 23, 31, 75, 28],\n",
       "       [37, 12, 48, 34, 25],\n",
       "       [ 9, 34, 42, 20, 13]], dtype=int16)"
      ]
     },
     "execution_count": 4,
     "metadata": {},
     "output_type": "execute_result"
    }
   ],
   "source": [
    "massiv = np.genfromtxt('test.txt', delimiter = ', ', dtype = 'int16')\n",
    "massiv"
   ]
  },
  {
   "cell_type": "code",
   "execution_count": 5,
   "id": "ff2ce333",
   "metadata": {},
   "outputs": [
    {
     "data": {
      "text/plain": [
       "array([[ True, False,  True, False, False],\n",
       "       [False,  True,  True, False,  True],\n",
       "       [ True,  True, False,  True,  True],\n",
       "       [ True,  True, False,  True,  True]])"
      ]
     },
     "execution_count": 5,
     "metadata": {},
     "output_type": "execute_result"
    }
   ],
   "source": [
    "massiv < 40"
   ]
  },
  {
   "cell_type": "code",
   "execution_count": 7,
   "id": "feed2c00",
   "metadata": {},
   "outputs": [
    {
     "data": {
      "text/plain": [
       "array([ 5, 28, 23, 31, 28, 37, 12, 34, 25,  9, 34, 20, 13], dtype=int16)"
      ]
     },
     "execution_count": 7,
     "metadata": {},
     "output_type": "execute_result"
    }
   ],
   "source": [
    "massiv2 = massiv[massiv < 40]\n",
    "massiv2"
   ]
  },
  {
   "cell_type": "code",
   "execution_count": 9,
   "id": "39fe8078",
   "metadata": {},
   "outputs": [
    {
     "data": {
      "text/plain": [
       "array([28, 31, 37], dtype=int16)"
      ]
     },
     "execution_count": 9,
     "metadata": {},
     "output_type": "execute_result"
    }
   ],
   "source": [
    "massiv2[[1, 3, 5]]"
   ]
  },
  {
   "cell_type": "code",
   "execution_count": 12,
   "id": "9d587be1",
   "metadata": {},
   "outputs": [
    {
     "data": {
      "text/plain": [
       "array([ True,  True,  True,  True])"
      ]
     },
     "execution_count": 12,
     "metadata": {},
     "output_type": "execute_result"
    }
   ],
   "source": [
    "np.any(massiv < 40, axis = 1)"
   ]
  },
  {
   "cell_type": "code",
   "execution_count": 13,
   "id": "c68ab815",
   "metadata": {},
   "outputs": [
    {
     "data": {
      "text/plain": [
       "array([False, False, False, False])"
      ]
     },
     "execution_count": 13,
     "metadata": {},
     "output_type": "execute_result"
    }
   ],
   "source": [
    "np.all(massiv < 40, axis = 1)"
   ]
  },
  {
   "cell_type": "code",
   "execution_count": 14,
   "id": "7291ede2",
   "metadata": {},
   "outputs": [
    {
     "data": {
      "text/plain": [
       "array([[False, False,  True, False, False],\n",
       "       [False,  True,  True, False,  True],\n",
       "       [ True, False, False,  True,  True],\n",
       "       [False,  True, False, False, False]])"
      ]
     },
     "execution_count": 14,
     "metadata": {},
     "output_type": "execute_result"
    }
   ],
   "source": [
    "((massiv < 40) & (massiv > 20))"
   ]
  },
  {
   "cell_type": "code",
   "execution_count": null,
   "id": "a32af904",
   "metadata": {},
   "outputs": [],
   "source": []
  }
 ],
 "metadata": {
  "kernelspec": {
   "display_name": "Python 3 (ipykernel)",
   "language": "python",
   "name": "python3"
  },
  "language_info": {
   "codemirror_mode": {
    "name": "ipython",
    "version": 3
   },
   "file_extension": ".py",
   "mimetype": "text/x-python",
   "name": "python",
   "nbconvert_exporter": "python",
   "pygments_lexer": "ipython3",
   "version": "3.9.7"
  }
 },
 "nbformat": 4,
 "nbformat_minor": 5
}
