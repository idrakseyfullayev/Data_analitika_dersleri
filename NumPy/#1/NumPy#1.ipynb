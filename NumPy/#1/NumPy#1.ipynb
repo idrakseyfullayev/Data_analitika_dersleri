{
 "cells": [
  {
   "cell_type": "code",
   "execution_count": 1,
   "id": "c7d4d8c4",
   "metadata": {},
   "outputs": [],
   "source": [
    "import numpy as np"
   ]
  },
  {
   "cell_type": "code",
   "execution_count": 18,
   "id": "f5c4077c",
   "metadata": {},
   "outputs": [
    {
     "name": "stdout",
     "output_type": "stream",
     "text": [
      "[1 2 3 4 5]\n"
     ]
    }
   ],
   "source": [
    "massiv = np.array([1, 2, 3, 4, 5], dtype = 'int16')\n",
    "print(massiv)"
   ]
  },
  {
   "cell_type": "code",
   "execution_count": 4,
   "id": "f09cf3aa",
   "metadata": {},
   "outputs": [
    {
     "data": {
      "text/plain": [
       "1"
      ]
     },
     "execution_count": 4,
     "metadata": {},
     "output_type": "execute_result"
    }
   ],
   "source": [
    "massiv.ndim"
   ]
  },
  {
   "cell_type": "code",
   "execution_count": 8,
   "id": "53777c05",
   "metadata": {},
   "outputs": [
    {
     "data": {
      "text/plain": [
       "2"
      ]
     },
     "execution_count": 8,
     "metadata": {},
     "output_type": "execute_result"
    }
   ],
   "source": [
    "ikinci_massiv = np.array([[1, 2, 3], [4, 5, 6]])\n",
    "ikinci_massiv.ndim"
   ]
  },
  {
   "cell_type": "code",
   "execution_count": 12,
   "id": "f198ddb4",
   "metadata": {},
   "outputs": [
    {
     "name": "stdout",
     "output_type": "stream",
     "text": [
      "(5,)\n",
      "(2, 3)\n"
     ]
    }
   ],
   "source": [
    "print(massiv.shape)\n",
    "print(ikinci_massiv.shape)"
   ]
  },
  {
   "cell_type": "code",
   "execution_count": 19,
   "id": "2d4a6fed",
   "metadata": {},
   "outputs": [
    {
     "data": {
      "text/plain": [
       "dtype('int16')"
      ]
     },
     "execution_count": 19,
     "metadata": {},
     "output_type": "execute_result"
    }
   ],
   "source": [
    "massiv.dtype"
   ]
  },
  {
   "cell_type": "code",
   "execution_count": 20,
   "id": "93f4c0ab",
   "metadata": {},
   "outputs": [
    {
     "data": {
      "text/plain": [
       "2"
      ]
     },
     "execution_count": 20,
     "metadata": {},
     "output_type": "execute_result"
    }
   ],
   "source": [
    "massiv.itemsize"
   ]
  },
  {
   "cell_type": "code",
   "execution_count": 21,
   "id": "483efaa2",
   "metadata": {},
   "outputs": [
    {
     "data": {
      "text/plain": [
       "10"
      ]
     },
     "execution_count": 21,
     "metadata": {},
     "output_type": "execute_result"
    }
   ],
   "source": [
    "massiv.nbytes"
   ]
  },
  {
   "cell_type": "code",
   "execution_count": null,
   "id": "ee4a4d0c",
   "metadata": {},
   "outputs": [],
   "source": []
  }
 ],
 "metadata": {
  "kernelspec": {
   "display_name": "Python 3 (ipykernel)",
   "language": "python",
   "name": "python3"
  },
  "language_info": {
   "codemirror_mode": {
    "name": "ipython",
    "version": 3
   },
   "file_extension": ".py",
   "mimetype": "text/x-python",
   "name": "python",
   "nbconvert_exporter": "python",
   "pygments_lexer": "ipython3",
   "version": "3.9.7"
  }
 },
 "nbformat": 4,
 "nbformat_minor": 5
}
