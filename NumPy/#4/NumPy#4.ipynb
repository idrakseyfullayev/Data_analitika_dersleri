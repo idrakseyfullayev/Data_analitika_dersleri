{
 "cells": [
  {
   "cell_type": "code",
   "execution_count": 1,
   "id": "40b6308e",
   "metadata": {},
   "outputs": [],
   "source": [
    "import numpy as np"
   ]
  },
  {
   "cell_type": "code",
   "execution_count": 13,
   "id": "81b96322",
   "metadata": {},
   "outputs": [
    {
     "data": {
      "text/plain": [
       "array([4, 5, 6])"
      ]
     },
     "execution_count": 13,
     "metadata": {},
     "output_type": "execute_result"
    }
   ],
   "source": [
    "massiv = np.array([1, 2, 3])\n",
    "massiv2 = np.array([4, 5, 6])\n",
    "massiv2"
   ]
  },
  {
   "cell_type": "code",
   "execution_count": 8,
   "id": "677112cf",
   "metadata": {},
   "outputs": [
    {
     "data": {
      "text/plain": [
       "array([6, 7, 8])"
      ]
     },
     "execution_count": 8,
     "metadata": {},
     "output_type": "execute_result"
    }
   ],
   "source": [
    "massiv + 5"
   ]
  },
  {
   "cell_type": "code",
   "execution_count": 9,
   "id": "c47af11e",
   "metadata": {},
   "outputs": [
    {
     "data": {
      "text/plain": [
       "array([-2, -1,  0])"
      ]
     },
     "execution_count": 9,
     "metadata": {},
     "output_type": "execute_result"
    }
   ],
   "source": [
    "massiv - 3"
   ]
  },
  {
   "cell_type": "code",
   "execution_count": 10,
   "id": "581f3787",
   "metadata": {},
   "outputs": [
    {
     "data": {
      "text/plain": [
       "array([ 7, 14, 21])"
      ]
     },
     "execution_count": 10,
     "metadata": {},
     "output_type": "execute_result"
    }
   ],
   "source": [
    "massiv * 7"
   ]
  },
  {
   "cell_type": "code",
   "execution_count": 11,
   "id": "3d2e8576",
   "metadata": {},
   "outputs": [
    {
     "data": {
      "text/plain": [
       "array([0.5, 1. , 1.5])"
      ]
     },
     "execution_count": 11,
     "metadata": {},
     "output_type": "execute_result"
    }
   ],
   "source": [
    "massiv / 2"
   ]
  },
  {
   "cell_type": "code",
   "execution_count": 12,
   "id": "51f49522",
   "metadata": {},
   "outputs": [
    {
     "data": {
      "text/plain": [
       "array([ 1, 16, 81])"
      ]
     },
     "execution_count": 12,
     "metadata": {},
     "output_type": "execute_result"
    }
   ],
   "source": [
    "massiv ** 4"
   ]
  },
  {
   "cell_type": "code",
   "execution_count": 14,
   "id": "437195c0",
   "metadata": {},
   "outputs": [
    {
     "data": {
      "text/plain": [
       "array([5, 7, 9])"
      ]
     },
     "execution_count": 14,
     "metadata": {},
     "output_type": "execute_result"
    }
   ],
   "source": [
    "massiv + massiv2"
   ]
  },
  {
   "cell_type": "code",
   "execution_count": 15,
   "id": "0fab74a7",
   "metadata": {},
   "outputs": [
    {
     "data": {
      "text/plain": [
       "array([3, 3, 3])"
      ]
     },
     "execution_count": 15,
     "metadata": {},
     "output_type": "execute_result"
    }
   ],
   "source": [
    "massiv2 - massiv"
   ]
  },
  {
   "cell_type": "code",
   "execution_count": 16,
   "id": "5b32eafe",
   "metadata": {},
   "outputs": [
    {
     "data": {
      "text/plain": [
       "array([ 4, 10, 18])"
      ]
     },
     "execution_count": 16,
     "metadata": {},
     "output_type": "execute_result"
    }
   ],
   "source": [
    "massiv * massiv2"
   ]
  },
  {
   "cell_type": "code",
   "execution_count": 17,
   "id": "9350fc82",
   "metadata": {},
   "outputs": [
    {
     "data": {
      "text/plain": [
       "array([4. , 2.5, 2. ])"
      ]
     },
     "execution_count": 17,
     "metadata": {},
     "output_type": "execute_result"
    }
   ],
   "source": [
    "massiv2/massiv"
   ]
  },
  {
   "cell_type": "code",
   "execution_count": 18,
   "id": "1a24842a",
   "metadata": {},
   "outputs": [
    {
     "data": {
      "text/plain": [
       "1.0"
      ]
     },
     "execution_count": 18,
     "metadata": {},
     "output_type": "execute_result"
    }
   ],
   "source": [
    "np.sin(np.pi/2)"
   ]
  },
  {
   "cell_type": "code",
   "execution_count": 19,
   "id": "6a011830",
   "metadata": {},
   "outputs": [
    {
     "data": {
      "text/plain": [
       "6.123233995736766e-17"
      ]
     },
     "execution_count": 19,
     "metadata": {},
     "output_type": "execute_result"
    }
   ],
   "source": [
    "np.cos(np.pi/2)"
   ]
  },
  {
   "cell_type": "code",
   "execution_count": 20,
   "id": "4cd66b83",
   "metadata": {},
   "outputs": [
    {
     "data": {
      "text/plain": [
       "0"
      ]
     },
     "execution_count": 20,
     "metadata": {},
     "output_type": "execute_result"
    }
   ],
   "source": [
    "import math\n",
    "math.floor(6.123233995736766e-17)"
   ]
  },
  {
   "cell_type": "code",
   "execution_count": 26,
   "id": "3ce142d1",
   "metadata": {},
   "outputs": [],
   "source": [
    "matris = np.full((3, 4), 5)\n",
    "matris2 = np.full((4, 3), 4)\n",
    "yeni_matris = np.matmul(matris, matris2)"
   ]
  },
  {
   "cell_type": "code",
   "execution_count": 27,
   "id": "b2b1c536",
   "metadata": {},
   "outputs": [
    {
     "data": {
      "text/plain": [
       "0.0"
      ]
     },
     "execution_count": 27,
     "metadata": {},
     "output_type": "execute_result"
    }
   ],
   "source": [
    "np.linalg.det(yeni_matris)"
   ]
  },
  {
   "cell_type": "code",
   "execution_count": 33,
   "id": "0f93985b",
   "metadata": {},
   "outputs": [
    {
     "data": {
      "text/plain": [
       "array([ 6, 15])"
      ]
     },
     "execution_count": 33,
     "metadata": {},
     "output_type": "execute_result"
    }
   ],
   "source": [
    "ikid_matris = np.array([[1, 2, 3], [4, 5, 6]])\n",
    "np.min(ikid_matris, axis = 1)\n",
    "np.max(ikid_matris, axis = 1)\n",
    "np.sum(ikid_matris, axis = 1)"
   ]
  },
  {
   "cell_type": "code",
   "execution_count": null,
   "id": "4d1ab73c",
   "metadata": {},
   "outputs": [],
   "source": []
  }
 ],
 "metadata": {
  "kernelspec": {
   "display_name": "Python 3 (ipykernel)",
   "language": "python",
   "name": "python3"
  },
  "language_info": {
   "codemirror_mode": {
    "name": "ipython",
    "version": 3
   },
   "file_extension": ".py",
   "mimetype": "text/x-python",
   "name": "python",
   "nbconvert_exporter": "python",
   "pygments_lexer": "ipython3",
   "version": "3.9.7"
  }
 },
 "nbformat": 4,
 "nbformat_minor": 5
}
