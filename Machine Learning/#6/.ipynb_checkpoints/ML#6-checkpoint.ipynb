{
 "cells": [
  {
   "cell_type": "code",
   "execution_count": 25,
   "id": "389b91bb",
   "metadata": {},
   "outputs": [],
   "source": [
    "import pandas as pd\n",
    "from sklearn import linear_model"
   ]
  },
  {
   "cell_type": "code",
   "execution_count": 2,
   "id": "1943088a",
   "metadata": {},
   "outputs": [
    {
     "data": {
      "text/html": [
       "<div>\n",
       "<style scoped>\n",
       "    .dataframe tbody tr th:only-of-type {\n",
       "        vertical-align: middle;\n",
       "    }\n",
       "\n",
       "    .dataframe tbody tr th {\n",
       "        vertical-align: top;\n",
       "    }\n",
       "\n",
       "    .dataframe thead th {\n",
       "        text-align: right;\n",
       "    }\n",
       "</style>\n",
       "<table border=\"1\" class=\"dataframe\">\n",
       "  <thead>\n",
       "    <tr style=\"text-align: right;\">\n",
       "      <th></th>\n",
       "      <th>Price</th>\n",
       "      <th>Year</th>\n",
       "      <th>Engine</th>\n",
       "      <th>Distance</th>\n",
       "    </tr>\n",
       "  </thead>\n",
       "  <tbody>\n",
       "    <tr>\n",
       "      <th>0</th>\n",
       "      <td>12 700 AZN</td>\n",
       "      <td>2008</td>\n",
       "      <td>1.5 L</td>\n",
       "      <td>384 633 km</td>\n",
       "    </tr>\n",
       "    <tr>\n",
       "      <th>1</th>\n",
       "      <td>19 000 AZN</td>\n",
       "      <td>2010</td>\n",
       "      <td>1.8 L</td>\n",
       "      <td>316 656 km</td>\n",
       "    </tr>\n",
       "    <tr>\n",
       "      <th>2</th>\n",
       "      <td>13 900 AZN</td>\n",
       "      <td>2008</td>\n",
       "      <td>1.5 L</td>\n",
       "      <td>175 000 km</td>\n",
       "    </tr>\n",
       "    <tr>\n",
       "      <th>3</th>\n",
       "      <td>12 800 AZN</td>\n",
       "      <td>2007</td>\n",
       "      <td>1.5 L</td>\n",
       "      <td>210 000 km</td>\n",
       "    </tr>\n",
       "    <tr>\n",
       "      <th>4</th>\n",
       "      <td>14 500 AZN</td>\n",
       "      <td>2006</td>\n",
       "      <td>1.5 L</td>\n",
       "      <td>137 000 km</td>\n",
       "    </tr>\n",
       "    <tr>\n",
       "      <th>...</th>\n",
       "      <td>...</td>\n",
       "      <td>...</td>\n",
       "      <td>...</td>\n",
       "      <td>...</td>\n",
       "    </tr>\n",
       "    <tr>\n",
       "      <th>987</th>\n",
       "      <td>19 000 AZN</td>\n",
       "      <td>2012</td>\n",
       "      <td>1.8 L</td>\n",
       "      <td>167 000 km</td>\n",
       "    </tr>\n",
       "    <tr>\n",
       "      <th>988</th>\n",
       "      <td>10 000 AZN</td>\n",
       "      <td>2007</td>\n",
       "      <td>1.5 L</td>\n",
       "      <td>187 000 km</td>\n",
       "    </tr>\n",
       "    <tr>\n",
       "      <th>989</th>\n",
       "      <td>20 000 AZN</td>\n",
       "      <td>2007</td>\n",
       "      <td>1.5 L</td>\n",
       "      <td>150 000 km</td>\n",
       "    </tr>\n",
       "    <tr>\n",
       "      <th>990</th>\n",
       "      <td>13 900 AZN</td>\n",
       "      <td>2008</td>\n",
       "      <td>1.5 L</td>\n",
       "      <td>175 000 km</td>\n",
       "    </tr>\n",
       "    <tr>\n",
       "      <th>991</th>\n",
       "      <td>12 200 AZN</td>\n",
       "      <td>2008</td>\n",
       "      <td>1.5 L</td>\n",
       "      <td>150 000 km</td>\n",
       "    </tr>\n",
       "  </tbody>\n",
       "</table>\n",
       "<p>992 rows × 4 columns</p>\n",
       "</div>"
      ],
      "text/plain": [
       "          Price  Year Engine    Distance\n",
       "0    12 700 AZN  2008  1.5 L  384 633 km\n",
       "1    19 000 AZN  2010  1.8 L  316 656 km\n",
       "2    13 900 AZN  2008  1.5 L  175 000 km\n",
       "3    12 800 AZN  2007  1.5 L  210 000 km\n",
       "4    14 500 AZN  2006  1.5 L  137 000 km\n",
       "..          ...   ...    ...         ...\n",
       "987  19 000 AZN  2012  1.8 L  167 000 km\n",
       "988  10 000 AZN  2007  1.5 L  187 000 km\n",
       "989  20 000 AZN  2007  1.5 L  150 000 km\n",
       "990  13 900 AZN  2008  1.5 L  175 000 km\n",
       "991  12 200 AZN  2008  1.5 L  150 000 km\n",
       "\n",
       "[992 rows x 4 columns]"
      ]
     },
     "execution_count": 2,
     "metadata": {},
     "output_type": "execute_result"
    }
   ],
   "source": [
    "df = pd.read_csv('turbo.csv')\n",
    "df"
   ]
  },
  {
   "cell_type": "code",
   "execution_count": 24,
   "id": "6ee338c1",
   "metadata": {},
   "outputs": [
    {
     "data": {
      "text/html": [
       "<div>\n",
       "<style scoped>\n",
       "    .dataframe tbody tr th:only-of-type {\n",
       "        vertical-align: middle;\n",
       "    }\n",
       "\n",
       "    .dataframe tbody tr th {\n",
       "        vertical-align: top;\n",
       "    }\n",
       "\n",
       "    .dataframe thead th {\n",
       "        text-align: right;\n",
       "    }\n",
       "</style>\n",
       "<table border=\"1\" class=\"dataframe\">\n",
       "  <thead>\n",
       "    <tr style=\"text-align: right;\">\n",
       "      <th></th>\n",
       "      <th>Price</th>\n",
       "      <th>Year</th>\n",
       "      <th>Engine</th>\n",
       "      <th>Distance</th>\n",
       "    </tr>\n",
       "  </thead>\n",
       "  <tbody>\n",
       "    <tr>\n",
       "      <th>0</th>\n",
       "      <td>12700</td>\n",
       "      <td>2008</td>\n",
       "      <td>1.5</td>\n",
       "      <td>384633</td>\n",
       "    </tr>\n",
       "    <tr>\n",
       "      <th>1</th>\n",
       "      <td>19000</td>\n",
       "      <td>2010</td>\n",
       "      <td>1.8</td>\n",
       "      <td>316656</td>\n",
       "    </tr>\n",
       "    <tr>\n",
       "      <th>2</th>\n",
       "      <td>13900</td>\n",
       "      <td>2008</td>\n",
       "      <td>1.5</td>\n",
       "      <td>175000</td>\n",
       "    </tr>\n",
       "    <tr>\n",
       "      <th>3</th>\n",
       "      <td>12800</td>\n",
       "      <td>2007</td>\n",
       "      <td>1.5</td>\n",
       "      <td>210000</td>\n",
       "    </tr>\n",
       "    <tr>\n",
       "      <th>4</th>\n",
       "      <td>14500</td>\n",
       "      <td>2006</td>\n",
       "      <td>1.5</td>\n",
       "      <td>137000</td>\n",
       "    </tr>\n",
       "    <tr>\n",
       "      <th>...</th>\n",
       "      <td>...</td>\n",
       "      <td>...</td>\n",
       "      <td>...</td>\n",
       "      <td>...</td>\n",
       "    </tr>\n",
       "    <tr>\n",
       "      <th>987</th>\n",
       "      <td>19000</td>\n",
       "      <td>2012</td>\n",
       "      <td>1.8</td>\n",
       "      <td>167000</td>\n",
       "    </tr>\n",
       "    <tr>\n",
       "      <th>988</th>\n",
       "      <td>10000</td>\n",
       "      <td>2007</td>\n",
       "      <td>1.5</td>\n",
       "      <td>187000</td>\n",
       "    </tr>\n",
       "    <tr>\n",
       "      <th>989</th>\n",
       "      <td>20000</td>\n",
       "      <td>2007</td>\n",
       "      <td>1.5</td>\n",
       "      <td>150000</td>\n",
       "    </tr>\n",
       "    <tr>\n",
       "      <th>990</th>\n",
       "      <td>13900</td>\n",
       "      <td>2008</td>\n",
       "      <td>1.5</td>\n",
       "      <td>175000</td>\n",
       "    </tr>\n",
       "    <tr>\n",
       "      <th>991</th>\n",
       "      <td>12200</td>\n",
       "      <td>2008</td>\n",
       "      <td>1.5</td>\n",
       "      <td>150000</td>\n",
       "    </tr>\n",
       "  </tbody>\n",
       "</table>\n",
       "<p>982 rows × 4 columns</p>\n",
       "</div>"
      ],
      "text/plain": [
       "     Price  Year  Engine  Distance\n",
       "0    12700  2008     1.5    384633\n",
       "1    19000  2010     1.8    316656\n",
       "2    13900  2008     1.5    175000\n",
       "3    12800  2007     1.5    210000\n",
       "4    14500  2006     1.5    137000\n",
       "..     ...   ...     ...       ...\n",
       "987  19000  2012     1.8    167000\n",
       "988  10000  2007     1.5    187000\n",
       "989  20000  2007     1.5    150000\n",
       "990  13900  2008     1.5    175000\n",
       "991  12200  2008     1.5    150000\n",
       "\n",
       "[982 rows x 4 columns]"
      ]
     },
     "execution_count": 24,
     "metadata": {},
     "output_type": "execute_result"
    }
   ],
   "source": [
    "df"
   ]
  },
  {
   "cell_type": "code",
   "execution_count": 26,
   "id": "81fe386f",
   "metadata": {},
   "outputs": [
    {
     "data": {
      "text/plain": [
       "LinearRegression()"
      ]
     },
     "execution_count": 26,
     "metadata": {},
     "output_type": "execute_result"
    }
   ],
   "source": [
    "model = linear_model.LinearRegression()\n",
    "model.fit(df[['Year', 'Engine', 'Distance']], df['Price'])"
   ]
  },
  {
   "cell_type": "code",
   "execution_count": 29,
   "id": "370d7620",
   "metadata": {},
   "outputs": [
    {
     "data": {
      "text/plain": [
       "array([15755.39473806])"
      ]
     },
     "execution_count": 29,
     "metadata": {},
     "output_type": "execute_result"
    }
   ],
   "source": [
    "model.predict([[2010,  1.5, 200000]])"
   ]
  },
  {
   "cell_type": "code",
   "execution_count": 30,
   "id": "f43c74ca",
   "metadata": {},
   "outputs": [
    {
     "data": {
      "text/plain": [
       "array([ 1.03331584e+03,  4.47296841e+03, -3.66203878e-03])"
      ]
     },
     "execution_count": 30,
     "metadata": {},
     "output_type": "execute_result"
    }
   ],
   "source": [
    "# y = m*x + c\n",
    "# y = m1 * Year + m2 * Engine + m3 * Distance + c\n",
    "\n",
    "model.coef_"
   ]
  },
  {
   "cell_type": "code",
   "execution_count": 31,
   "id": "8d381fcc",
   "metadata": {},
   "outputs": [
    {
     "data": {
      "text/plain": [
       "-2067186.4867634596"
      ]
     },
     "execution_count": 31,
     "metadata": {},
     "output_type": "execute_result"
    }
   ],
   "source": [
    "model.intercept_"
   ]
  },
  {
   "cell_type": "code",
   "execution_count": 32,
   "id": "2824c0d0",
   "metadata": {},
   "outputs": [
    {
     "data": {
      "text/plain": [
       "15755.396495540394"
      ]
     },
     "execution_count": 32,
     "metadata": {},
     "output_type": "execute_result"
    }
   ],
   "source": [
    "(1.03331584e+03) * 2010 + (4.47296841e+03) * 1.5 + (-3.66203878e-03) * 200000 + (-2067186.4867634596)"
   ]
  },
  {
   "cell_type": "code",
   "execution_count": null,
   "id": "7b26f0db",
   "metadata": {},
   "outputs": [],
   "source": []
  }
 ],
 "metadata": {
  "kernelspec": {
   "display_name": "Python 3 (ipykernel)",
   "language": "python",
   "name": "python3"
  },
  "language_info": {
   "codemirror_mode": {
    "name": "ipython",
    "version": 3
   },
   "file_extension": ".py",
   "mimetype": "text/x-python",
   "name": "python",
   "nbconvert_exporter": "python",
   "pygments_lexer": "ipython3",
   "version": "3.9.7"
  }
 },
 "nbformat": 4,
 "nbformat_minor": 5
}
