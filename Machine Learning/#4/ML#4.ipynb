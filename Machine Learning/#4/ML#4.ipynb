{
 "cells": [
  {
   "cell_type": "code",
   "execution_count": 1,
   "id": "35d5d109",
   "metadata": {},
   "outputs": [],
   "source": [
    "import numpy as np\n",
    "import matplotlib.pyplot as plt"
   ]
  },
  {
   "cell_type": "code",
   "execution_count": 2,
   "id": "bce44391",
   "metadata": {},
   "outputs": [
    {
     "data": {
      "image/png": "[encoded data removed]",
      "text/plain": [
       "<Figure size 432x288 with 1 Axes>"
      ]
     },
     "metadata": {
      "needs_background": "light"
     },
     "output_type": "display_data"
    }
   ],
   "source": [
    "x = np.array([60, 80, 90, 100, 120])\n",
    "y = np.array([50, 60, 70, 80, 90])\n",
    "\n",
    "plt.scatter(x, y, color = 'red', marker = '+')\n",
    "plt.show()"
   ]
  },
  {
   "cell_type": "code",
   "execution_count": 23,
   "id": "ca353d7c",
   "metadata": {},
   "outputs": [
    {
     "name": "stdout",
     "output_type": "stream",
     "text": [
      "0.7288875960808588 4.271742139739966\n"
     ]
    }
   ],
   "source": [
    "def meyil_azaltma(x, y, L, iterasiya):\n",
    "    m = c = 0\n",
    "    n = len(y)\n",
    "    \n",
    "    for i in range(iterasiya):\n",
    "        y_texmini = m * x + c\n",
    "        itki_funksiyasi = (1/n) * sum((y - y_texmini) ** 2)\n",
    "        md = -(2/n)*sum(x * (y - y_texmini))\n",
    "        cd = -(2/n)*sum(y - y_texmini)\n",
    "        \n",
    "        m = m - L * md\n",
    "        c = c - L * cd\n",
    "        \n",
    "    return m, c\n",
    "        \n",
    "m, c = meyil_azaltma(x, y, 0.0001, 100000)\n",
    "print(m, c)"
   ]
  },
  {
   "cell_type": "code",
   "execution_count": 24,
   "id": "e372af97",
   "metadata": {},
   "outputs": [
    {
     "data": {
      "image/png": "[encoded data removed]",
      "text/plain": [
       "<Figure size 432x288 with 1 Axes>"
      ]
     },
     "metadata": {
      "needs_background": "light"
     },
     "output_type": "display_data"
    }
   ],
   "source": [
    "plt.scatter(x, y, color = 'red', marker = '+')\n",
    "plt.plot(x, (x * m + c), color = 'blue')\n",
    "plt.show()"
   ]
  },
  {
   "cell_type": "code",
   "execution_count": null,
   "id": "a4ab7ddb",
   "metadata": {},
   "outputs": [],
   "source": []
  }
 ],
 "metadata": {
  "kernelspec": {
   "display_name": "Python 3 (ipykernel)",
   "language": "python",
   "name": "python3"
  },
  "language_info": {
   "codemirror_mode": {
    "name": "ipython",
    "version": 3
   },
   "file_extension": ".py",
   "mimetype": "text/x-python",
   "name": "python",
   "nbconvert_exporter": "python",
   "pygments_lexer": "ipython3",
   "version": "3.9.7"
  }
 },
 "nbformat": 4,
 "nbformat_minor": 5
}
