{
 "cells": [
  {
   "cell_type": "markdown",
   "id": "566f0cce",
   "metadata": {},
   "source": [
    "# Bu ən böyük başlıqdır\n",
    "## Bu başlıq daha kiçikdir\n",
    "\n",
    "I really like using Markdown.\n",
    "\n",
    "I think I'll use it to format all of my documents from now on.\n",
    "\n",
    "Bu paraqraf yazısıdır.\n",
    "\n",
    "Bu **qalın** yazıdır.\n",
    "\n",
    "Bu *italic* yazıdır.\n",
    "\n",
    "> Bu bir sitatdır.\n",
    "\n",
    "- Bu nömrələnməmiş siyahının ilk bəndidir\n",
    "- Bu isə nömrələnməmiş siyahının ikinci bəndidir.\n",
    "\n",
    "1. Bu nömrələnmiş siyahının ilk bəndidir\n",
    "2. Bu isə nömrələnmiş siyahının ikinci bəndidir."
   ]
  },
  {
   "cell_type": "code",
   "execution_count": 1,
   "id": "10137ae8",
   "metadata": {},
   "outputs": [
    {
     "name": "stdout",
     "output_type": "stream",
     "text": [
      "Hello Write\n"
     ]
    }
   ],
   "source": [
    "print('Hello Write')"
   ]
  },
  {
   "cell_type": "code",
   "execution_count": 3,
   "id": "678f85d2",
   "metadata": {},
   "outputs": [
    {
     "name": "stdout",
     "output_type": "stream",
     "text": [
      "Hey\n"
     ]
    }
   ],
   "source": [
    "print('Hey')"
   ]
  }
 ],
 "metadata": {
  "kernelspec": {
   "display_name": "Python 3 (ipykernel)",
   "language": "python",
   "name": "python3"
  },
  "language_info": {
   "codemirror_mode": {
    "name": "ipython",
    "version": 3
   },
   "file_extension": ".py",
   "mimetype": "text/x-python",
   "name": "python",
   "nbconvert_exporter": "python",
   "pygments_lexer": "ipython3",
   "version": "3.9.7"
  }
 },
 "nbformat": 4,
 "nbformat_minor": 5
}
